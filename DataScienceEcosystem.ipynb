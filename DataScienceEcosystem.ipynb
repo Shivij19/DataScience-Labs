{
 "cells": [
  {
   "cell_type": "markdown",
   "id": "290c6397-927d-4d6f-9cb5-54252227eb31",
   "metadata": {},
   "source": [
    "# Data Science Tools and Ecosystem"
   ]
  },
  {
   "cell_type": "markdown",
   "id": "1a782ee0-5a3f-45c7-b9ee-e076fdbbc4db",
   "metadata": {},
   "source": [
    "In this notebook, Data Science Tools and Ecosystem are summarized."
   ]
  },
  {
   "cell_type": "markdown",
   "id": "031921c8-2884-4b59-bac1-0bc1e35af086",
   "metadata": {},
   "source": [
    "Some of the popular languages that Data Scientists use are:\n",
    "1. Python\n",
    "2. SQL\n",
    "3. R\n",
    "4. Julia\n",
    "5. Java"
   ]
  },
  {
   "cell_type": "markdown",
   "id": "7d8f3e9c-660e-4067-9d16-98b328749ae7",
   "metadata": {},
   "source": [
    "Some of the commonly used libraries used by Data Scientists include:\n",
    "1. NumPy\n",
    "2. Keras\n",
    "3. Pandas\n",
    "4. Matplotlib\n",
    "5. TensorFlow"
   ]
  },
  {
   "cell_type": "markdown",
   "id": "8d22701e-28c6-4f84-a521-a2058ca95fef",
   "metadata": {},
   "source": [
    "| Data Science Tools |\n",
    "|--------------------|\n",
    "| Jupyter Notbook |\n",
    "| R and RStudio |\n",
    "| Git and GitHub |"
   ]
  },
  {
   "cell_type": "markdown",
   "id": "1f3bd28c-014f-4145-b567-da384a41b23c",
   "metadata": {},
   "source": [
    "### Below are a few examples of evaluating arithmetic expressions in Python"
   ]
  },
  {
   "cell_type": "code",
   "execution_count": 3,
   "id": "091b973f-7197-4d69-8259-59727c4e966d",
   "metadata": {},
   "outputs": [
    {
     "data": {
      "text/plain": [
       "17"
      ]
     },
     "execution_count": 3,
     "metadata": {},
     "output_type": "execute_result"
    }
   ],
   "source": [
    "#This a simple arithmetic expression to multiply then add integers\n",
    "add = (3*4)+5\n",
    "add"
   ]
  },
  {
   "cell_type": "code",
   "execution_count": 4,
   "id": "e0601e02-fd7c-4fdb-8064-7598826570e8",
   "metadata": {},
   "outputs": [
    {
     "data": {
      "text/plain": [
       "3.3333333333333335"
      ]
     },
     "execution_count": 4,
     "metadata": {},
     "output_type": "execute_result"
    }
   ],
   "source": [
    "#This will convert 200 minutes to hours by diving by 60\n",
    "hours = 200/60\n",
    "hours"
   ]
  },
  {
   "cell_type": "code",
   "execution_count": 5,
   "id": "0b41d891-9c72-49c1-bdd7-95432a6b2e54",
   "metadata": {},
   "outputs": [
    {
     "data": {
      "text/plain": [
       "3"
      ]
     },
     "execution_count": 5,
     "metadata": {},
     "output_type": "execute_result"
    }
   ],
   "source": [
    "#This will convert 200 minutes to hours by diving by 60\n",
    "hours1 = 200//60\n",
    "hours1"
   ]
  },
  {
   "cell_type": "markdown",
   "id": "ff2c2213-c9bc-4026-ab2b-5a10b3fd47ad",
   "metadata": {},
   "source": [
    "**Objectives:**\n",
    "- List languages for Data Science.\n",
    "- List Tools for Data Science.\n",
    "- Commonly used Data Scientists libraries.\n",
    "- Basic Arithmetic Expressions."
   ]
  },
  {
   "cell_type": "markdown",
   "id": "b4bedc0a-d177-41dd-b8ab-48750f57caf9",
   "metadata": {},
   "source": [
    "## Author\n",
    "Shivani Joshi"
   ]
  },
  {
   "cell_type": "code",
   "execution_count": null,
   "id": "97313b50-96a5-401c-b911-bb46325f0bb1",
   "metadata": {},
   "outputs": [],
   "source": []
  }
 ],
 "metadata": {
  "kernelspec": {
   "display_name": "Python 3 (ipykernel)",
   "language": "python",
   "name": "python3"
  },
  "language_info": {
   "codemirror_mode": {
    "name": "ipython",
    "version": 3
   },
   "file_extension": ".py",
   "mimetype": "text/x-python",
   "name": "python",
   "nbconvert_exporter": "python",
   "pygments_lexer": "ipython3",
   "version": "3.11.9"
  }
 },
 "nbformat": 4,
 "nbformat_minor": 5
}
